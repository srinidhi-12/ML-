{
  "nbformat": 4,
  "nbformat_minor": 0,
  "metadata": {
    "colab": {
      "provenance": []
    },
    "kernelspec": {
      "name": "python3",
      "display_name": "Python 3"
    },
    "language_info": {
      "name": "python"
    }
  },
  "cells": [
    {
      "cell_type": "code",
      "execution_count": 1,
      "metadata": {
        "colab": {
          "base_uri": "https://localhost:8080/"
        },
        "id": "bYJCQMLdpucH",
        "outputId": "d9153c36-31c7-4ac9-9446-97c5936ef1fc"
      },
      "outputs": [
        {
          "output_type": "stream",
          "name": "stdout",
          "text": [
            "Downloading data from https://storage.googleapis.com/tensorflow/tf-keras-datasets/mnist.npz\n",
            "11490434/11490434 [==============================] - 1s 0us/step\n",
            "Epoch 1/10\n",
            "750/750 [==============================] - 49s 64ms/step - loss: 0.3198 - accuracy: 0.8992 - val_loss: 0.0718 - val_accuracy: 0.9789\n",
            "Epoch 2/10\n",
            "750/750 [==============================] - 45s 60ms/step - loss: 0.1114 - accuracy: 0.9664 - val_loss: 0.0492 - val_accuracy: 0.9859\n",
            "Epoch 3/10\n",
            "750/750 [==============================] - 45s 60ms/step - loss: 0.0817 - accuracy: 0.9748 - val_loss: 0.0412 - val_accuracy: 0.9876\n",
            "Epoch 4/10\n",
            "750/750 [==============================] - 44s 59ms/step - loss: 0.0698 - accuracy: 0.9785 - val_loss: 0.0377 - val_accuracy: 0.9895\n",
            "Epoch 5/10\n",
            "750/750 [==============================] - 45s 60ms/step - loss: 0.0623 - accuracy: 0.9803 - val_loss: 0.0376 - val_accuracy: 0.9893\n",
            "Epoch 6/10\n",
            "750/750 [==============================] - 47s 62ms/step - loss: 0.0573 - accuracy: 0.9824 - val_loss: 0.0364 - val_accuracy: 0.9897\n",
            "Epoch 7/10\n",
            "750/750 [==============================] - 45s 59ms/step - loss: 0.0509 - accuracy: 0.9839 - val_loss: 0.0346 - val_accuracy: 0.9903\n",
            "Epoch 8/10\n",
            "750/750 [==============================] - 44s 59ms/step - loss: 0.0484 - accuracy: 0.9846 - val_loss: 0.0372 - val_accuracy: 0.9897\n",
            "Epoch 9/10\n",
            "750/750 [==============================] - 45s 59ms/step - loss: 0.0463 - accuracy: 0.9863 - val_loss: 0.0323 - val_accuracy: 0.9912\n",
            "Epoch 10/10\n",
            "750/750 [==============================] - 47s 62ms/step - loss: 0.0416 - accuracy: 0.9870 - val_loss: 0.0303 - val_accuracy: 0.9909\n",
            "313/313 - 2s - loss: 0.0236 - accuracy: 0.9922 - 2s/epoch - 7ms/step\n",
            "Test accuracy: 0.9922\n"
          ]
        }
      ],
      "source": [
        "import tensorflow as tf\n",
        "from tensorflow.keras.datasets import mnist\n",
        "from tensorflow.keras.utils import to_categorical\n",
        "from tensorflow.keras.models import Sequential\n",
        "from tensorflow.keras.layers import Conv2D, MaxPooling2D, Flatten, Dense, Dropout\n",
        "\n",
        "# Load and preprocess the MNIST dataset\n",
        "(x_train, y_train), (x_test, y_test) = mnist.load_data()\n",
        "\n",
        "# Normalize the data\n",
        "x_train = x_train.astype('float32') / 255.0\n",
        "x_test = x_test.astype('float32') / 255.0\n",
        "\n",
        "# Reshape the data to include a channel dimension\n",
        "x_train = x_train.reshape(-1, 28, 28, 1)\n",
        "x_test = x_test.reshape(-1, 28, 28, 1)\n",
        "\n",
        "# One-hot encode the labels\n",
        "y_train = to_categorical(y_train, 10)\n",
        "y_test = to_categorical(y_test, 10)\n",
        "\n",
        "# Build the model\n",
        "model = Sequential([\n",
        "    Conv2D(32, (3, 3), activation='relu', input_shape=(28, 28, 1)),\n",
        "    MaxPooling2D((2, 2)),\n",
        "    Dropout(0.2),\n",
        "\n",
        "    Conv2D(64, (3, 3), activation='relu'),\n",
        "    MaxPooling2D((2, 2)),\n",
        "    Dropout(0.3),\n",
        "\n",
        "    Flatten(),\n",
        "    Dense(128, activation='relu'),\n",
        "    Dropout(0.5),\n",
        "    Dense(10, activation='softmax')\n",
        "])\n",
        "\n",
        "# Compile the model\n",
        "model.compile(optimizer='adam',\n",
        "              loss='categorical_crossentropy',\n",
        "              metrics=['accuracy'])\n",
        "\n",
        "# Train the model\n",
        "history = model.fit(x_train, y_train, epochs=10, batch_size=64, validation_split=0.2)\n",
        "\n",
        "# Evaluate the model\n",
        "test_loss, test_accuracy = model.evaluate(x_test, y_test, verbose=2)\n",
        "print(f'Test accuracy: {test_accuracy:.4f}')\n"
      ]
    }
  ]
}